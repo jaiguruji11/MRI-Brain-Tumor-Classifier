{
  "nbformat": 4,
  "nbformat_minor": 0,
  "metadata": {
    "colab": {
      "provenance": []
    },
    "kernelspec": {
      "name": "python3",
      "display_name": "Python 3"
    },
    "language_info": {
      "name": "python"
    }
  },
  "cells": [
    {
      "cell_type": "code",
      "execution_count": null,
      "metadata": {
        "id": "Uy_92x2wuVC2"
      },
      "outputs": [],
      "source": [
        "import torch\n",
        "import torch.nn as nn\n",
        "from torchvision import datasets, transforms, models\n",
        "from torch.utils.data import DataLoader"
      ]
    },
    {
      "cell_type": "code",
      "source": [
        "from google.colab import drive\n",
        "drive.mount('/content/drive')\n",
        "train_path = '/content/drive/MyDrive/archive/Training'\n",
        "test_path = '/content/drive/MyDrive/archive/Testing'\n"
      ],
      "metadata": {
        "colab": {
          "base_uri": "https://localhost:8080/"
        },
        "id": "ov7WwY1BxD8w",
        "outputId": "85304d67-2909-49ff-b4e2-629a8fdcd9fc"
      },
      "execution_count": null,
      "outputs": [
        {
          "output_type": "stream",
          "name": "stdout",
          "text": [
            "Drive already mounted at /content/drive; to attempt to forcibly remount, call drive.mount(\"/content/drive\", force_remount=True).\n"
          ]
        }
      ]
    },
    {
      "cell_type": "code",
      "source": [
        "# 1. Transform for grayscale MRI scans\n",
        "from torchvision import datasets, transforms\n",
        "from torch.utils.data import DataLoader\n",
        "\n",
        "transform = transforms.Compose([\n",
        "    transforms.Resize((224, 224)),\n",
        "    transforms.Grayscale(num_output_channels=3),  # Convert grayscale to 3-channel for pretrained models\n",
        "    transforms.ToTensor(),\n",
        "    transforms.Normalize([0.5]*3, [0.5]*3)  # Optional: normalize to match pretrained model expectations\n",
        "])"
      ],
      "metadata": {
        "id": "l5pKZK7MuW6p"
      },
      "execution_count": null,
      "outputs": []
    },
    {
      "cell_type": "code",
      "source": [
        "# 2. Simulated MRI dataset (use real data in production)\n",
        "train_data = datasets.ImageFolder(root=train_path, transform=transform)\n",
        "test_data = datasets.ImageFolder(root=test_path, transform=transform)\n",
        "\n",
        "train_loader = DataLoader(train_data, batch_size=8, shuffle=True)\n",
        "test_loader = DataLoader(test_data, batch_size=8)\n"
      ],
      "metadata": {
        "id": "y9X_pb0LucIu"
      },
      "execution_count": null,
      "outputs": []
    },
    {
      "cell_type": "code",
      "source": [
        "# Optional: Check class labels\n",
        "\n",
        "print(\"Training classes:\", train_data.classes)\n",
        "print(\"Testing classes:\", test_data.classes)\n"
      ],
      "metadata": {
        "colab": {
          "base_uri": "https://localhost:8080/"
        },
        "id": "K4TDSBap0ngv",
        "outputId": "81a568b1-23c3-465d-d2c5-7227aae7faf2"
      },
      "execution_count": null,
      "outputs": [
        {
          "output_type": "stream",
          "name": "stdout",
          "text": [
            "Training classes: ['glioma', 'meningioma', 'notumor', 'pituitary']\n",
            "Testing classes: ['glioma', 'meningioma', 'notumor', 'pituitary']\n"
          ]
        }
      ]
    },
    {
      "cell_type": "code",
      "source": [
        "# 3. Define MRI classifier (ResNet18 fine-tuned)\n",
        "class MRINet(nn.Module):\n",
        "    def __init__(self):\n",
        "        super().__init__()\n",
        "        self.base = models.resnet18(pretrained=True)\n",
        "        self.base.fc = nn.Linear(self.base.fc.in_features, 4) # Changed to 4 output features\n",
        "\n",
        "    def forward(self, x):\n",
        "        return self.base(x)"
      ],
      "metadata": {
        "id": "gtmdu8RJugQs"
      },
      "execution_count": null,
      "outputs": []
    },
    {
      "cell_type": "code",
      "source": [
        "# 4. Setup\n",
        "device = torch.device(\"cuda\" if torch.cuda.is_available() else \"cpu\")\n",
        "model = MRINet().to(device)\n",
        "optimizer = torch.optim.Adam(model.parameters(), lr=0.001)\n",
        "loss_fn = nn.CrossEntropyLoss()"
      ],
      "metadata": {
        "colab": {
          "base_uri": "https://localhost:8080/"
        },
        "id": "l-9nEEg0ujv4",
        "outputId": "1857801e-1583-4dd9-af44-05dd25cb74db"
      },
      "execution_count": null,
      "outputs": [
        {
          "output_type": "stream",
          "name": "stderr",
          "text": [
            "/usr/local/lib/python3.12/dist-packages/torchvision/models/_utils.py:208: UserWarning: The parameter 'pretrained' is deprecated since 0.13 and may be removed in the future, please use 'weights' instead.\n",
            "  warnings.warn(\n",
            "/usr/local/lib/python3.12/dist-packages/torchvision/models/_utils.py:223: UserWarning: Arguments other than a weight enum or `None` for 'weights' are deprecated since 0.13 and may be removed in the future. The current behavior is equivalent to passing `weights=ResNet18_Weights.IMAGENET1K_V1`. You can also use `weights=ResNet18_Weights.DEFAULT` to get the most up-to-date weights.\n",
            "  warnings.warn(msg)\n"
          ]
        }
      ]
    },
    {
      "cell_type": "code",
      "source": [
        "# 5. Training function\n",
        "def train():\n",
        "    model.train()\n",
        "    for images, labels in train_loader:\n",
        "        images, labels = images.to(device), labels.to(device)\n",
        "        optimizer.zero_grad()\n",
        "        outputs = model(images)\n",
        "        loss = loss_fn(outputs, labels)\n",
        "        loss.backward()\n",
        "        optimizer.step()"
      ],
      "metadata": {
        "id": "QjGUxj91uldw"
      },
      "execution_count": null,
      "outputs": []
    },
    {
      "cell_type": "code",
      "source": [
        "# 6. Evaluation function\n",
        "def evaluate():\n",
        "    model.eval()\n",
        "    correct, total = 0, 0\n",
        "    with torch.no_grad():\n",
        "        for images, labels in test_loader:\n",
        "            images, labels = images.to(device), labels.to(device)\n",
        "            preds = torch.argmax(model(images), dim=1)\n",
        "            correct += (preds == labels).sum().item()\n",
        "            total += labels.size(0)\n",
        "    print(f\"Test Accuracy: {correct / total:.2f}\")"
      ],
      "metadata": {
        "id": "VNNln8LWuosM"
      },
      "execution_count": null,
      "outputs": []
    },
    {
      "cell_type": "code",
      "source": [
        "# 7. Run training\n",
        "for epoch in range(1, 6):\n",
        "    train()\n",
        "    print(f\"Epoch {epoch}\")\n",
        "    evaluate()"
      ],
      "metadata": {
        "colab": {
          "base_uri": "https://localhost:8080/"
        },
        "id": "v40LQs6hurJ2",
        "outputId": "a46cffc1-ed5d-46c2-a669-fc13b1b7cf90"
      },
      "execution_count": null,
      "outputs": [
        {
          "output_type": "stream",
          "name": "stdout",
          "text": [
            "Epoch 1\n",
            "Test Accuracy: 0.91\n",
            "Epoch 2\n",
            "Test Accuracy: 0.93\n",
            "Epoch 3\n",
            "Test Accuracy: 0.93\n",
            "Epoch 4\n",
            "Test Accuracy: 0.94\n",
            "Epoch 5\n",
            "Test Accuracy: 0.95\n"
          ]
        }
      ]
    }
  ]
}